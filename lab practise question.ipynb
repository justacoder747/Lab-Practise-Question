{
 "cells": [
  {
   "cell_type": "markdown",
   "id": "9ae8a687-a384-4bf9-bf91-da683c39d044",
   "metadata": {},
   "source": [
    "Question no 1:"
   ]
  },
  {
   "cell_type": "code",
   "execution_count": 2,
   "id": "c5ce3013-40a3-4879-a114-48c259ff3eba",
   "metadata": {},
   "outputs": [
    {
     "name": "stdout",
     "output_type": "stream",
     "text": [
      "noor\n",
      "19\n",
      "skp\n"
     ]
    }
   ],
   "source": [
    "#create class of person\n",
    "class person:\n",
    "   def __init__(self,name,age,city):\n",
    "    self.name = name\n",
    "    self.age = age\n",
    "    self.city = city\n",
    "   def person(self):\n",
    "       print(f\"{self.name} ,noor\")\n",
    "my_self = person(\"noor\",19,\"skp\")\n",
    "print(my_self.name)\n",
    "print(my_self.age)\n",
    "print(my_self.city)       "
   ]
  },
  {
   "cell_type": "markdown",
   "id": "92ecc1a7-1ed1-4c66-8637-7e488daa158f",
   "metadata": {},
   "source": [
    "Question no 02:"
   ]
  },
  {
   "cell_type": "code",
   "execution_count": 4,
   "id": "54320fac-b5f2-43ba-a118-c2232e409a65",
   "metadata": {},
   "outputs": [
    {
     "name": "stdout",
     "output_type": "stream",
     "text": [
      "Toyota\n",
      "Corolla\n",
      "2022\n"
     ]
    }
   ],
   "source": [
    "#create list of car:\n",
    "class Car:\n",
    "    def __init__(self, make, model, year):\n",
    "        self.make = make\n",
    "        self.model = model\n",
    "        self.year = year\n",
    "    def person(self):\n",
    "        print(f\"{self.name},heres!\")\n",
    "car1 = Car(\"Toyota\", \"Corolla\", 2022)\n",
    "print(car1.make)    \n",
    "print(car1.model)\n",
    "print(car1.year)"
   ]
  },
  {
   "cell_type": "markdown",
   "id": "9e2056c0-fc61-4e9b-8c93-b6ffaf114bc1",
   "metadata": {},
   "source": [
    "Question no 03:"
   ]
  },
  {
   "cell_type": "code",
   "execution_count": 6,
   "id": "eaf2b0eb-09a0-44dd-a977-f2012910d6bf",
   "metadata": {},
   "outputs": [
    {
     "name": "stdout",
     "output_type": "stream",
     "text": [
      "Area: 78.5\n",
      "circumference: 31.400000000000002\n"
     ]
    }
   ],
   "source": [
    "class Circle:\n",
    "    def __init__(self, radius):\n",
    "        self.radius = radius\n",
    "\n",
    "    def area(self):\n",
    "        return 3.14 * self.radius ** 2\n",
    "\n",
    "    def circumference(self):\n",
    "        return 2 * 3.14 * self.radius\n",
    "c = Circle(5)\n",
    "print(\"Area:\",c.area())\n",
    "print(\"circumference:\",c.circumference())"
   ]
  },
  {
   "cell_type": "markdown",
   "id": "438bbfd7-82a8-4d82-ac94-c6ef1c0cf64c",
   "metadata": {},
   "source": [
    "Question no 04:"
   ]
  },
  {
   "cell_type": "code",
   "execution_count": 16,
   "id": "ff0cef7e-b80b-4530-b4ee-d0980378367e",
   "metadata": {},
   "outputs": [
    {
     "name": "stdout",
     "output_type": "stream",
     "text": [
      "Area: 15\n",
      "Perimeter: 16\n"
     ]
    }
   ],
   "source": [
    "class Rectangle:\n",
    "    def __init__(self, length, width):\n",
    "        self.length = length\n",
    "        self.width = width\n",
    "\n",
    "    def area(self):\n",
    "        return self.length * self.width\n",
    "\n",
    "    def perimeter(self):\n",
    "        return 2 * (self.length + self.width)\n",
    "r = Rectangle(5, 3)\n",
    "print(\"Area:\", r.area())          \n",
    "print(\"Perimeter:\", r.perimeter()) "
   ]
  },
  {
   "cell_type": "markdown",
   "id": "4ccc47ca-d695-4c44-a5b5-7466f28e5ee3",
   "metadata": {},
   "source": [
    "Question no 05:"
   ]
  },
  {
   "cell_type": "code",
   "execution_count": 20,
   "id": "9a22038d-7208-4b26-8129-370de51160a9",
   "metadata": {},
   "outputs": [
    {
     "name": "stdout",
     "output_type": "stream",
     "text": [
      "Average Marks: 84.33333333333333\n"
     ]
    }
   ],
   "source": [
    "class Student:\n",
    "    def __init__(self, name, roll_number, marks):\n",
    "        self.name = name\n",
    "        self.roll_number = roll_number\n",
    "        self.marks = marks  # marks should be a list of numbers\n",
    "\n",
    "    def calculate_average(self):\n",
    "        if len(self.marks) == 0:\n",
    "            return 0\n",
    "        return sum(self.marks) / len(self.marks)\n",
    "s1 = Student(\"noor\", \"101\", [85, 90, 78])\n",
    "print(\"Average Marks:\", s1.calculate_average()) "
   ]
  },
  {
   "cell_type": "markdown",
   "id": "c46fb6ac-5051-42c1-bca9-1bfac5d08efa",
   "metadata": {},
   "source": [
    "Question no 06:"
   ]
  },
  {
   "cell_type": "code",
   "execution_count": 23,
   "id": "74250d3c-4f49-4f60-bafa-2e626fcaf950",
   "metadata": {},
   "outputs": [
    {
     "name": "stdout",
     "output_type": "stream",
     "text": [
      "1984\n",
      "George Orwell\n",
      "1949\n"
     ]
    }
   ],
   "source": [
    "class Book:\n",
    "    def __init__(self, title, author, publication_year):\n",
    "        self.title = title\n",
    "        self.author = author\n",
    "        self.publication_year = publication_year\n",
    "b1 = Book(\"1984\", \"George Orwell\", 1949)\n",
    "print(b1.title)             \n",
    "print(b1.author)            \n",
    "print(b1.publication_year) \n"
   ]
  },
  {
   "cell_type": "markdown",
   "id": "98fa32c2-7e1e-4877-82ca-b68f8932c155",
   "metadata": {},
   "source": [
    "Question no 07:"
   ]
  },
  {
   "cell_type": "code",
   "execution_count": 35,
   "id": "5ff00aa8-64c9-44f8-8398-bb935e6bcfc1",
   "metadata": {},
   "outputs": [
    {
     "name": "stdout",
     "output_type": "stream",
     "text": [
      "Sara\n",
      "50000\n",
      "Software Engineer\n"
     ]
    }
   ],
   "source": [
    "class Employee:\n",
    "    def __init__(self, name, salary, designation):\n",
    "        self.name = name\n",
    "        self.salary = salary\n",
    "        self.designation = designation\n",
    "e1 = Employee(\"Sara\", 50000, \"Software Engineer\")\n",
    "print(e1.name)         \n",
    "print(e1.salary)       \n",
    "print(e1.designation) \n"
   ]
  },
  {
   "cell_type": "markdown",
   "id": "13f613b2-b284-4e71-a2bd-79144e9e000c",
   "metadata": {},
   "source": [
    "Question no 08:"
   ]
  },
  {
   "cell_type": "code",
   "execution_count": 40,
   "id": "03ee5789-66ed-4b4a-a564-c2a7b9cf5db4",
   "metadata": {},
   "outputs": [
    {
     "name": "stdout",
     "output_type": "stream",
     "text": [
      "Deposited 500. New balance is 1500.\n",
      "Withdrew 200. New balance is 1300.\n",
      "Insufficient balance.\n"
     ]
    }
   ],
   "source": [
    "class Bank:\n",
    "    def __init__(self, name, account_number, balance=0):\n",
    "        self.name = name\n",
    "        self.account_number = account_number\n",
    "        self.balance = balance\n",
    "\n",
    "    def deposit(self, amount):\n",
    "        if amount > 0:\n",
    "            self.balance += amount\n",
    "            return f\"Deposited {amount}. New balance is {self.balance}.\"\n",
    "        else:\n",
    "            return \"Deposit amount must be positive.\"\n",
    "\n",
    "    def withdraw(self, amount):\n",
    "        if amount > self.balance:\n",
    "            return \"Insufficient balance.\"\n",
    "        elif amount <= 0:\n",
    "            return \"Withdrawal amount must be positive.\"\n",
    "        else:\n",
    "            self.balance -= amount\n",
    "            return f\"Withdrew {amount}. New balance is {self.balance}.\"\n",
    "account = Bank(\"Ali\", \"123456789\", 1000)\n",
    "print(account.deposit(500))     \n",
    "print(account.withdraw(200))     \n",
    "print(account.withdraw(2000))    \n",
    "\n",
    "\n"
   ]
  },
  {
   "cell_type": "markdown",
   "id": "6b937610-ffcc-4a74-8af0-3657fba43adb",
   "metadata": {},
   "source": [
    "Question no 09:"
   ]
  },
  {
   "cell_type": "code",
   "execution_count": 45,
   "id": "2818d15b-6269-4c52-a30f-a1a4e17a048d",
   "metadata": {},
   "outputs": [
    {
     "name": "stdout",
     "output_type": "stream",
     "text": [
      "Circle area: 78.53975\n",
      "Rectangle area: 24\n",
      "Triangle area: 10.5\n"
     ]
    }
   ],
   "source": [
    "class Shape:\n",
    "    def area(self):\n",
    "        raise NotImplementedError(\"Subclasses must implement this method\")\n",
    "\n",
    "class Circle(Shape):\n",
    "    def __init__(self, radius):\n",
    "        self.radius = radius\n",
    "\n",
    "    def area(self):\n",
    "        return 3.14159 * self.radius * self.radius\n",
    "\n",
    "class Rectangle(Shape):\n",
    "    def __init__(self, length, width):\n",
    "        self.length = length\n",
    "        self.width = width\n",
    "\n",
    "    def area(self):\n",
    "        return self.length * self.width\n",
    "\n",
    "class Triangle(Shape):\n",
    "    def __init__(self, base, height):\n",
    "        self.base = base\n",
    "        self.height = height\n",
    "\n",
    "    def area(self):\n",
    "        return 0.5 * self.base * self.height\n",
    "shapes = [\n",
    "    Circle(5),\n",
    "    Rectangle(4, 6),\n",
    "    Triangle(3, 7)\n",
    "]\n",
    "\n",
    "for shape in shapes:\n",
    "    print(f\"{shape.__class__.__name__} area:\", shape.area())\n"
   ]
  },
  {
   "cell_type": "markdown",
   "id": "a7baf040-b704-4f8d-869d-486e551957e0",
   "metadata": {},
   "source": [
    "Question no 10:"
   ]
  },
  {
   "cell_type": "code",
   "execution_count": 48,
   "id": "a03f2f58-0b95-4d88-b75f-32b696756fd2",
   "metadata": {},
   "outputs": [
    {
     "name": "stdout",
     "output_type": "stream",
     "text": [
      "Buddy says Woof\n",
      "Whiskers says Meow\n",
      "Bessie says Moo\n"
     ]
    }
   ],
   "source": [
    "class Animal:\n",
    "    def __init__(self, name, sound):\n",
    "        self.name = name\n",
    "        self.sound = sound\n",
    "\n",
    "    def make_sound(self):\n",
    "        return f\"{self.name} says {self.sound}\"\n",
    "\n",
    "class Dog(Animal):\n",
    "    def __init__(self, name):\n",
    "        super().__init__(name, \"Woof\")\n",
    "\n",
    "class Cat(Animal):\n",
    "    def __init__(self, name):\n",
    "        super().__init__(name, \"Meow\")\n",
    "\n",
    "class Cow(Animal):\n",
    "    def __init__(self, name):\n",
    "        super().__init__(name, \"Moo\")\n",
    "dog = Dog(\"Buddy\")\n",
    "cat = Cat(\"Whiskers\")\n",
    "cow = Cow(\"Bessie\")\n",
    "\n",
    "print(dog.make_sound())  # Buddy says Woof\n",
    "print(cat.make_sound())  # Whiskers says Meow\n",
    "print(cow.make_sound())  # Bessie says Moo\n"
   ]
  },
  {
   "cell_type": "code",
   "execution_count": null,
   "id": "4a3cb000-f7a7-4892-a9b6-ba40737717e1",
   "metadata": {},
   "outputs": [],
   "source": []
  }
 ],
 "metadata": {
  "kernelspec": {
   "display_name": "Python 3 (ipykernel)",
   "language": "python",
   "name": "python3"
  },
  "language_info": {
   "codemirror_mode": {
    "name": "ipython",
    "version": 3
   },
   "file_extension": ".py",
   "mimetype": "text/x-python",
   "name": "python",
   "nbconvert_exporter": "python",
   "pygments_lexer": "ipython3",
   "version": "3.12.4"
  }
 },
 "nbformat": 4,
 "nbformat_minor": 5
}
